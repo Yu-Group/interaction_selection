{
 "cells": [
  {
   "cell_type": "code",
   "execution_count": 1,
   "metadata": {},
   "outputs": [],
   "source": [
    "from utils import (\n",
    "    train_regression_model,\n",
    "    evaluate_model,\n",
    "    load_simulated_regression_data,\n",
    ")\n",
    "from tqdm import tqdm\n",
    "import matplotlib.pyplot as plt\n",
    "import numpy as np\n",
    "from irf.ensemble import wrf_reg as rfr\n",
    "from irf.tree import WeightedDecisionTreeRegressor as wtr\n",
    "import pickle as pk"
   ]
  },
  {
   "cell_type": "code",
   "execution_count": null,
   "metadata": {},
   "outputs": [
    {
     "name": "stderr",
     "output_type": "stream",
     "text": [
      "  0%|          | 0/40 [00:00<?, ?it/s]"
     ]
    }
   ],
   "source": [
    "final_results = {}\n",
    "recorded = {}\n",
    "data = {}\n",
    "for name in [\"Sim_reg\"]:\n",
    "    for num_interact in range(1, 5):\n",
    "        for order in range(2, 5):\n",
    "            for SNR in [0.01, 0.1, 1, 10, 100]:\n",
    "                for ind in tqdm(range(40)):\n",
    "                    X, y, y_true = load_simulated_regression_data(i=ind,SNR=SNR, num_interact=num_interact, order=order, n=1000)\n",
    "                    for feature_selection in ['soft', 'hard']:\n",
    "                        y_pred = train_regression_model(X, y, feature_selection=feature_selection, intended_order=order)\n",
    "                        for metric in ['strict', 'mild']:\n",
    "                            result = evaluate_model(y_pred, y_true, name, metric=metric)\n",
    "                            final_results[(name, num_interact, order, SNR, ind, feature_selection, metric)] = result\n",
    "                            recorded[(name, num_interact, order, SNR, ind, feature_selection, metric)] = [X, y, y_true, y_pred]\n",
    "                with open(\"temporary_save.pk\", 'wb') as f:\n",
    "                    pk.dump(final_results, f)\n",
    "                    pk.dump(recorded, f)"
   ]
  }
 ],
 "metadata": {
  "kernelspec": {
   "display_name": "Environment (conda_python3)",
   "language": "python",
   "name": "conda_python3"
  },
  "language_info": {
   "codemirror_mode": {
    "name": "ipython",
    "version": 3
   },
   "file_extension": ".py",
   "mimetype": "text/x-python",
   "name": "python",
   "nbconvert_exporter": "python",
   "pygments_lexer": "ipython3",
   "version": "3.7.4"
  }
 },
 "nbformat": 4,
 "nbformat_minor": 2
}
