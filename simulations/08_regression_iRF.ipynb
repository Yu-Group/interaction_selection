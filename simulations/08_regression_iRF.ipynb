{
 "cells": [
  {
   "cell_type": "code",
   "execution_count": 1,
   "metadata": {},
   "outputs": [],
   "source": [
    "from utils import (\n",
    "    load_data,\n",
    "    train_model,\n",
    "    evaluate_model,\n",
    "    load_siRF_result,\n",
    ")\n",
    "from tqdm import tqdm\n",
    "import matplotlib.pyplot as plt\n",
    "import numpy as np"
   ]
  },
  {
   "cell_type": "code",
   "execution_count": null,
   "metadata": {},
   "outputs": [],
   "source": [
    "final_results = {}\n",
    "for name in [\"Sim_new\"]:\n",
    "    for rule in [\"overlap\", \"single\", \"multiple\"]:\n",
    "        for ind in tqdm(range(100)):\n",
    "            X, y, y_true = load_data(ind, name, rule)\n",
    "            for weight_scheme in ['depth']:\n",
    "                y_pred = train_model(X, y, iter=ind, weight_scheme=weight_scheme, bootstrap=True, name=name, rule=rule,\n",
    "                                     tag=\"sim_new\")\n",
    "                result = evaluate_model(y_pred, y_true, name, metric='strict')\n",
    "                final_results[(name, rule, ind, weight_scheme)] = result"
   ]
  }
 ],
 "metadata": {
  "kernelspec": {
   "display_name": "Python 3",
   "language": "python",
   "name": "python3"
  },
  "language_info": {
   "codemirror_mode": {
    "name": "ipython",
    "version": 3
   },
   "file_extension": ".py",
   "mimetype": "text/x-python",
   "name": "python",
   "nbconvert_exporter": "python",
   "pygments_lexer": "ipython3",
   "version": "3.6.5"
  }
 },
 "nbformat": 4,
 "nbformat_minor": 2
}
