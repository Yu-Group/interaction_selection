{
 "cells": [
  {
   "cell_type": "code",
   "execution_count": 1,
   "metadata": {},
   "outputs": [],
   "source": [
    "# from utils import (\n",
    "#     train_regression_model,\n",
    "#     evaluate_model,\n",
    "#     load_simulated_regression_data,\n",
    "# )\n",
    "# from tqdm import tqdm\n",
    "import matplotlib.pyplot as plt\n",
    "import numpy as np\n",
    "# from irf.ensemble import wrf_reg as rfr\n",
    "# from irf.tree import WeightedDecisionTreeRegressor as wtr\n",
    "import pickle as pk\n",
    "from multiprocessing import Pool\n",
    "from helper import ff"
   ]
  },
  {
   "cell_type": "code",
   "execution_count": 2,
   "metadata": {},
   "outputs": [
    {
     "name": "stdout",
     "output_type": "stream",
     "text": [
      "1 2\n",
      "1 2\n",
      "1 2\n",
      "1 3\n",
      "1 3\n",
      "1 3\n",
      "1 3\n",
      "1 4\n",
      "1 4\n",
      "1 4\n",
      "1 4\n",
      "2 2\n",
      "2 2\n",
      "2 2\n",
      "2 2\n",
      "2 3\n",
      "2 3\n",
      "2 3\n",
      "2 3\n",
      "2 4\n",
      "2 4\n",
      "2 4\n",
      "2 4\n",
      "3 2\n",
      "3 2\n",
      "3 2\n",
      "3 2\n",
      "3 3\n",
      "3 3\n",
      "3 3\n",
      "3 3\n",
      "3 4\n",
      "3 4\n",
      "3 4\n",
      "3 4\n",
      "4 2\n",
      "4 2\n",
      "4 2\n",
      "4 2\n",
      "4 3\n",
      "4 3\n",
      "4 3\n",
      "4 3\n",
      "4 4\n",
      "4 4\n",
      "4 4\n",
      "4 4\n"
     ]
    }
   ],
   "source": [
    "final_results = {}\n",
    "recorded = {}\n",
    "data = {}\n",
    "p = Pool(16)\n",
    "# def ff(ind):\n",
    "#     final1 = {}\n",
    "#     final2 = {}\n",
    "#     X, y, y_true = load_simulated_regression_data(i=ind,SNR=SNR, num_interact=num_interact, order=order, n=20, p = 17)\n",
    "#     for feature_selection in ['soft', 'hard']:\n",
    "#         y_pred = train_regression_model(X, y, feature_selection=feature_selection, intended_order=order, threshold=0, n_jobs=1)\n",
    "#         for metric in ['strict', 'mild']:\n",
    "#             result = evaluate_model(y_pred, y_true, name, metric=metric, with_sign=True)\n",
    "#             final1[(name, num_interact, order, SNR, ind, feature_selection, metric)] = result\n",
    "#             final2[(name, num_interact, order, SNR, ind, feature_selection, metric)] = [X, y, y_true, y_pred]\n",
    "#     return final1, final2\n",
    "for name in [\"Sim_reg\"]:\n",
    "    for num_interact in range(1, 5):\n",
    "        for order in range(2, 5):\n",
    "            for SNR in [1, 10, 50, 100]:\n",
    "                pooled_results = p.starmap(ff, [(name, num_interact, order, SNR, ind) for ind in range(40)])\n",
    "                for ind in range(40):\n",
    "                    final_results = {**final_results, **pooled_results[ind][0]}\n",
    "                    recorded = {**recorded, **pooled_results[ind][1]}\n",
    "                print(num_interact, order)\n",
    "                with open(\"temporary_save_new_ranking.pk\", 'wb') as f:\n",
    "                    pk.dump(final_results, f)\n",
    "                    pk.dump(recorded, f)"
   ]
  }
 ],
 "metadata": {
  "kernelspec": {
   "display_name": "Environment (conda_python3)",
   "language": "python",
   "name": "conda_python3"
  },
  "language_info": {
   "codemirror_mode": {
    "name": "ipython",
    "version": 3
   },
   "file_extension": ".py",
   "mimetype": "text/x-python",
   "name": "python",
   "nbconvert_exporter": "python",
   "pygments_lexer": "ipython3",
   "version": "3.7.4"
  }
 },
 "nbformat": 4,
 "nbformat_minor": 2
}
