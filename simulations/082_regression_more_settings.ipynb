{
 "cells": [
  {
   "cell_type": "markdown",
   "metadata": {},
   "source": [
    "# regression with data generated from a few more settings"
   ]
  },
  {
   "cell_type": "code",
   "execution_count": 1,
   "metadata": {},
   "outputs": [],
   "source": [
    "import matplotlib.pyplot as plt\n",
    "import numpy as np\n",
    "import pickle as pk\n",
    "from multiprocessing import Pool\n",
    "from helper import ff_2"
   ]
  },
  {
   "cell_type": "code",
   "execution_count": 2,
   "metadata": {},
   "outputs": [],
   "source": [
    "name = 'Sim_reg'\n",
    "num_interact = 3\n",
    "order = 3\n",
    "SNR=50\n",
    "noise_type='Gaussian'\n",
    "final_results = {}\n",
    "recorded = {}\n",
    "p = Pool(16)"
   ]
  },
  {
   "cell_type": "code",
   "execution_count": 23,
   "metadata": {},
   "outputs": [],
   "source": [
    "with open(\"082_save.pk\", 'rb') as f:\n",
    "    final_results = pk.load(f)\n",
    "    recorded = pk.load(f)"
   ]
  },
  {
   "cell_type": "code",
   "execution_count": 7,
   "metadata": {},
   "outputs": [],
   "source": [
    "#ff_2(name, num_interact, order, SNR, 0, 1, 'Gaussian', 1)"
   ]
  },
  {
   "cell_type": "code",
   "execution_count": 3,
   "metadata": {},
   "outputs": [
    {
     "name": "stdout",
     "output_type": "stream",
     "text": [
      "0\n",
      "1\n",
      "2\n"
     ]
    }
   ],
   "source": [
    "for overlap in [0, 1, 2]:\n",
    "    pooled_results = p.starmap(ff_2, [(name, num_interact, order, SNR, 0, overlap, 'Gaussian', ind) for ind in range(40)])\n",
    "    for ind in range(40):\n",
    "        final_results = {**final_results, **pooled_results[ind][0]}\n",
    "        recorded = {**recorded, **pooled_results[ind][1]}\n",
    "    print(overlap)\n",
    "    #with open(\"082_save_2_3.pk\", 'wb') as f:\n",
    "    #    pk.dump(final_results, f)\n",
    "    #    pk.dump(recorded, f)"
   ]
  },
  {
   "cell_type": "code",
   "execution_count": 4,
   "metadata": {},
   "outputs": [
    {
     "name": "stdout",
     "output_type": "stream",
     "text": [
      "0\n",
      "0.2\n",
      "0.4\n",
      "0.6\n"
     ]
    }
   ],
   "source": [
    "for feature_correlation in [0, 0.2, 0.4, 0.6]:\n",
    "    pooled_results = p.starmap(ff_2, [(name, num_interact, order, SNR, feature_correlation, 0, 'Gaussian', ind) for ind in range(40)])\n",
    "    for ind in range(40):\n",
    "        final_results = {**final_results, **pooled_results[ind][0]}\n",
    "        recorded = {**recorded, **pooled_results[ind][1]}\n",
    "    print(feature_correlation)\n",
    "    with open(\"082_save_correlated_2_3.pk\", 'wb') as f:\n",
    "        pk.dump(final_results, f)\n",
    "        pk.dump(recorded, f)"
   ]
  },
  {
   "cell_type": "code",
   "execution_count": 5,
   "metadata": {},
   "outputs": [
    {
     "name": "stdout",
     "output_type": "stream",
     "text": [
      "Gaussian\n",
      "Laplacian\n",
      "Cauchy\n"
     ]
    }
   ],
   "source": [
    "for noise_type in ['Gaussian', 'Laplacian', 'Cauchy']:\n",
    "    pooled_results = p.starmap(ff_2, [(name, num_interact, order, SNR, 0, 0, noise_type, ind) for ind in range(40)])\n",
    "    for ind in range(16):\n",
    "        final_results = {**final_results, **pooled_results[ind][0]}\n",
    "        recorded = {**recorded, **pooled_results[ind][1]}\n",
    "    print(noise_type)\n",
    "    with open(\"082_save_noise_2_3.pk\", 'wb') as f:\n",
    "        pk.dump(final_results, f)\n",
    "        pk.dump(recorded, f)"
   ]
  },
  {
   "cell_type": "code",
   "execution_count": 24,
   "metadata": {},
   "outputs": [
    {
     "data": {
      "image/png": "[encoded data removed]",
      "text/plain": [
       "<Figure size 192x216 with 1 Axes>"
      ]
     },
     "metadata": {
      "needs_background": "light"
     },
     "output_type": "display_data"
    }
   ],
   "source": [
    "fig, ax = plt.subplots( figsize=(8/3,3))\n",
    "for j, overlap in enumerate(range(0, 3)):\n",
    "    # depth weighted \n",
    "    min_length = 20\n",
    "    scores = []\n",
    "    for x, v in final_results.items():\n",
    "        if x[0] == 0 and x[1] == overlap and x[2] == 'Gaussian' and x[4] == 'soft' and x[5] == 'mild':\n",
    "            if len(v) < min_length:\n",
    "                v = list(v) + [v[-1]] * (min_length - len(v))\n",
    "            scores.append(v[:min_length])\n",
    "    scores = np.array(scores)\n",
    "    ax.errorbar(\n",
    "        np.arange(1, min_length+1),\n",
    "        np.nanmean(scores, axis=0),\n",
    "        marker='.',\n",
    "    )\n",
    "    \n",
    "ax.set_ylim([0,1.05])\n",
    "ax.set_xlim([2.9, 20.2])\n",
    "ax.legend(['overlap=0', 'overlap=1', 'overlap=2'])\n",
    "#ax.set_title(f\"Number of interactions {num_interact} with order {order}\", fontsize=10)\n",
    "#ax.xaxis.set_major_locator(MaxNLocator(integer=True))\n",
    "ax.spines[\"top\"].set_visible(False)  \n",
    "ax.spines[\"right\"].set_visible(False)\n",
    "ax.set_ylabel(f\"score\")\n",
    "ax.set_xlabel(\"M\")\n",
    "#ax.set_title(f\"interaction-order = {order}\")\n",
    "# plt.tight_layout()\n",
    "plt.show()"
   ]
  },
  {
   "cell_type": "code",
   "execution_count": 9,
   "metadata": {},
   "outputs": [],
   "source": [
    "# for x, v in recorded.items():\n",
    "#     if x[0] == 0 and x[1] == 2 and x[2] == 'Gaussian' and x[4] == 'soft' and x[5] == 'mild':\n",
    "        #print(v[3][:2])\n",
    "        #print(v[2][:2])"
   ]
  },
  {
   "cell_type": "code",
   "execution_count": 21,
   "metadata": {},
   "outputs": [],
   "source": [
    "with open(\"082_save_correlated.pk\", 'rb') as f:\n",
    "    final_results = pk.load(f)\n",
    "    recorded = pk.load(f)"
   ]
  },
  {
   "cell_type": "code",
   "execution_count": 22,
   "metadata": {},
   "outputs": [
    {
     "data": {
      "image/png": "[encoded data removed]",
      "text/plain": [
       "<Figure size 192x216 with 1 Axes>"
      ]
     },
     "metadata": {
      "needs_background": "light"
     },
     "output_type": "display_data"
    }
   ],
   "source": [
    "fig, ax = plt.subplots(figsize=(8/3,3))\n",
    "for j, corr in enumerate([0, 0.2, 0.4, 0.6]):\n",
    "    # depth weighted \n",
    "    min_length = np.min([len(v) for x, v in final_results.items() if x[0] == corr and x[1] == 0 and x[2] == 'Gaussian' and x[4] == 'soft' and x[5] == 'mild'])\n",
    "    min_length = min(20, min_length)\n",
    "    min_length = 20\n",
    "    scores = []\n",
    "    for x, v in final_results.items():\n",
    "        if x[0] == corr and x[1] == 0 and x[2] == 'Gaussian' and x[4] == 'soft' and x[5] == 'mild':\n",
    "            if len(v) < min_length:\n",
    "                v = list(v) + [v[-1]] * (min_length - len(v))\n",
    "            scores.append(v[:min_length])\n",
    "    scores = np.array(scores)\n",
    "    ax.errorbar(\n",
    "        np.arange(1, min_length+1),\n",
    "        np.nanmean(scores, axis=0),\n",
    "        marker='.',\n",
    "    )\n",
    "\n",
    "ax.set_ylim([0,1.05])\n",
    "ax.set_xlim([2.9, 20.2])\n",
    "ax.legend(['corr=0', 'corr=0.2', 'corr=0.4', 'corr=0.6'])\n",
    "#ax.set_title(f\"Number of interactions {num_interact} with order {order}\", fontsize=10)\n",
    "#ax.xaxis.set_major_locator(MaxNLocator(integer=True))\n",
    "ax.spines[\"top\"].set_visible(False)  \n",
    "ax.spines[\"right\"].set_visible(False)\n",
    "ax.set_ylabel(f\"score\")\n",
    "ax.set_xlabel(\"M\")\n",
    "#ax.set_title(f\"interaction-order = {order}\")\n",
    "# plt.tight_layout()\n",
    "plt.show()"
   ]
  },
  {
   "cell_type": "code",
   "execution_count": 19,
   "metadata": {},
   "outputs": [],
   "source": [
    "with open(\"082_save_noise.pk\", 'rb') as f:\n",
    "    final_results = pk.load(f)\n",
    "    recorded = pk.load(f)"
   ]
  },
  {
   "cell_type": "code",
   "execution_count": 20,
   "metadata": {},
   "outputs": [
    {
     "data": {
      "image/png": "[encoded data removed]",
      "text/plain": [
       "<Figure size 192x216 with 1 Axes>"
      ]
     },
     "metadata": {
      "needs_background": "light"
     },
     "output_type": "display_data"
    }
   ],
   "source": [
    "fig, ax = plt.subplots(figsize=(8/3.,3))\n",
    "for j, noise in enumerate([\"Gaussian\", \"Laplacian\", \"Cauchy\"]):\n",
    "    # depth weighted \n",
    "    min_length = np.min([len(v) for x, v in final_results.items() if x[0] == 0 and x[1] == 0 and x[2] == noise and x[4] == 'soft' and x[5] == 'mild'])\n",
    "    min_length = min(20, min_length)\n",
    "    min_length = 20\n",
    "    scores = []\n",
    "    for x, v in final_results.items():\n",
    "        if x[0] == 0 and x[1] == 0 and x[2] == noise and x[4] == 'soft' and x[5] == 'mild':\n",
    "            if len(v) < min_length:\n",
    "                v = list(v) + [v[-1]] * (min_length - len(v))\n",
    "            scores.append(v[:min_length])\n",
    "    scores = np.array(scores)\n",
    "    ax.errorbar(\n",
    "        np.arange(1, min_length+1),\n",
    "        np.nanmean(scores, axis=0),\n",
    "        marker='.',\n",
    "    )\n",
    "\n",
    "ax.set_ylim([0,1.05])\n",
    "ax.set_xlim([2.9, 20.2])\n",
    "ax.legend(['Gaussian', 'Laplacian', 'Cauchy'])\n",
    "#ax.set_title(f\"Number of interactions {num_interact} with order {order}\", fontsize=10)\n",
    "#ax.xaxis.set_major_locator(MaxNLocator(integer=True))\n",
    "ax.spines[\"top\"].set_visible(False)  \n",
    "ax.spines[\"right\"].set_visible(False)\n",
    "ax.set_ylabel(f\"score\")\n",
    "ax.set_xlabel(\"M\")\n",
    "#ax.set_title(f\"interaction-order = {order}\")\n",
    "# plt.tight_layout()\n",
    "plt.show()"
   ]
  },
  {
   "cell_type": "code",
   "execution_count": 9,
   "metadata": {},
   "outputs": [],
   "source": [
    "with open(\"082_save_2_3.pickle\", \"wb\") as f:\n",
    "    pk.dump(final_results, f)"
   ]
  }
 ],
 "metadata": {
  "kernelspec": {
   "display_name": "miniconda",
   "language": "python",
   "name": "miniconda"
  },
  "language_info": {
   "codemirror_mode": {
    "name": "ipython",
    "version": 3
   },
   "file_extension": ".py",
   "mimetype": "text/x-python",
   "name": "python",
   "nbconvert_exporter": "python",
   "pygments_lexer": "ipython3",
   "version": "3.8.3"
  }
 },
 "nbformat": 4,
 "nbformat_minor": 2
}
