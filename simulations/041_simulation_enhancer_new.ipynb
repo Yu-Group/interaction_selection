{
 "cells": [
  {
   "cell_type": "code",
   "execution_count": 1,
   "metadata": {},
   "outputs": [],
   "source": [
    "import numpy as np\n",
    "import matplotlib.pyplot as plt\n",
    "import irf\n",
    "from irf.ensemble import wrf as rfc\n",
    "from irf.utils import (\n",
    "    get_prevalent_interactions,\n",
    "    visualize_impurity_decrease,\n",
    "    visualize_prevalent_interactions,\n",
    "    get_filtered_feature_paths\n",
    ")\n",
    "import rpy2.robjects as robjects\n",
    "from irf.irf_jupyter_utils import draw_tree\n",
    "import utils"
   ]
  },
  {
   "cell_type": "code",
   "execution_count": 2,
   "metadata": {},
   "outputs": [],
   "source": [
    "mask = [\"zld\", \"bcd\", \"bcd\", \"cad\", \"D\", \"da\", \"dl\", \"ftz\", \"gt\", \"h\",\n",
    "         \"h\", \"hb\", \"hb\", \"hkb\", \"hkb\", \"hkb\", \"kni\", \"kni\", \"kr\", \"kr\", \n",
    "         \"mad\", \"med\", \"prd\", \"prd\", \"run\", \"run\", \"shn\", \"shn\", \"slp1\", \"sna\", \n",
    "         \"sna\", \"tll\", \"twi\", \"twi\", \"z\"]\n",
    "mask = {x:y for x, y in enumerate(mask)}"
   ]
  },
  {
   "cell_type": "markdown",
   "metadata": {},
   "source": [
    "# Simulate the settings in the signed iRF paper"
   ]
  },
  {
   "cell_type": "markdown",
   "metadata": {},
   "source": [
    "## Simulation 1: and rule"
   ]
  },
  {
   "cell_type": "code",
   "execution_count": 3,
   "metadata": {},
   "outputs": [],
   "source": [
    "X, y, interact_new = utils.load_data(i=0, name='Enhancer_new', rule='and')"
   ]
  },
  {
   "cell_type": "code",
   "execution_count": 4,
   "metadata": {},
   "outputs": [
    {
     "data": {
      "text/plain": [
       "[[(0, 'R'), (4, 'R'), (18, 'R'), (29, 'R')]]"
      ]
     },
     "execution_count": 4,
     "metadata": {},
     "output_type": "execute_result"
    }
   ],
   "source": [
    "interact_new"
   ]
  },
  {
   "cell_type": "code",
   "execution_count": 5,
   "metadata": {},
   "outputs": [],
   "source": [
    "rf = rfc()"
   ]
  },
  {
   "cell_type": "code",
   "execution_count": 6,
   "metadata": {},
   "outputs": [
    {
     "data": {
      "text/plain": [
       "wrf(bootstrap=True, ccp_alpha=0.0, class_weight=None, criterion='gini',\n",
       "    max_depth=None, max_features='auto', max_leaf_nodes=None, max_samples=None,\n",
       "    min_impurity_decrease=0.0, min_impurity_split=None, min_samples_leaf=1,\n",
       "    min_samples_split=2, min_weight_fraction_leaf=0.0, n_estimators=100,\n",
       "    n_jobs=None, oob_score=False, random_state=None, verbose=0,\n",
       "    warm_start=False)"
      ]
     },
     "execution_count": 6,
     "metadata": {},
     "output_type": "execute_result"
    }
   ],
   "source": [
    "rf.fit(X, y, keep_record=False)"
   ]
  },
  {
   "cell_type": "code",
   "execution_count": 7,
   "metadata": {},
   "outputs": [
    {
     "data": {
      "text/plain": [
       "<BarContainer object of 35 artists>"
      ]
     },
     "execution_count": 7,
     "metadata": {},
     "output_type": "execute_result"
    },
    {
     "data": {
      "image/png": "[encoded data removed]",
      "text/plain": [
       "<Figure size 432x288 with 1 Axes>"
      ]
     },
     "metadata": {},
     "output_type": "display_data"
    }
   ],
   "source": [
    "color = ['b' for x in range(35)]\n",
    "for x in [0, 4, 18, 29]:\n",
    "    color[x] = 'r'\n",
    "plt.bar(np.arange(35), rf.feature_importances_, color=color)"
   ]
  },
  {
   "cell_type": "code",
   "execution_count": 8,
   "metadata": {},
   "outputs": [
    {
     "data": {
      "image/png": "[encoded data removed]",
      "text/plain": [
       "<Figure size 432x288 with 2 Axes>"
      ]
     },
     "metadata": {},
     "output_type": "display_data"
    }
   ],
   "source": [
    "# look at the correlation between y_train and different features\n",
    "plt.imshow(np.corrcoef(np.vstack([X[:,[0, 4, 18, 29, 30]].T, y.T])))\n",
    "plt.colorbar()\n",
    "plt.show()"
   ]
  },
  {
   "cell_type": "code",
   "execution_count": 9,
   "metadata": {},
   "outputs": [
    {
     "data": {
      "image/png": "[encoded data removed]",
      "text/plain": [
       "<Figure size 432x288 with 1 Axes>"
      ]
     },
     "metadata": {},
     "output_type": "display_data"
    }
   ],
   "source": [
    "#visualize the impurity decrease of the rf model\n",
    "visualize_impurity_decrease(rf, xscale='linear', bins=50)"
   ]
  },
  {
   "cell_type": "code",
   "execution_count": 10,
   "metadata": {},
   "outputs": [
    {
     "data": {
      "text/plain": [
       "4852"
      ]
     },
     "execution_count": 10,
     "metadata": {},
     "output_type": "execute_result"
    }
   ],
   "source": [
    "rf.n_paths"
   ]
  },
  {
   "cell_type": "code",
   "execution_count": 11,
   "metadata": {},
   "outputs": [],
   "source": [
    "#preprocess compute the prevalence\n",
    "prevalence = get_prevalent_interactions(\n",
    "    rf,\n",
    "    impurity_decrease_threshold=0.001,\n",
    "    min_support=100,\n",
    "    signed=True,\n",
    "    weight_scheme=\"depth\",\n",
    "    mask=mask,\n",
    ")"
   ]
  },
  {
   "cell_type": "code",
   "execution_count": 12,
   "metadata": {},
   "outputs": [
    {
     "data": {
      "image/png": "[encoded data removed]",
      "text/plain": [
       "<Figure size 432x288 with 1 Axes>"
      ]
     },
     "metadata": {},
     "output_type": "display_data"
    }
   ],
   "source": [
    "#visualize the interaction plot\n",
    "visualize_prevalent_interactions(prevalence=prevalence)"
   ]
  },
  {
   "cell_type": "code",
   "execution_count": 13,
   "metadata": {},
   "outputs": [
    {
     "data": {
      "text/plain": [
       "[((('sna', 'R'),), 0.743203124999997),\n",
       " ((('sna', 'L'), ('sna', 'R')), 0.4695312499999985),\n",
       " ((('kr', 'R'), ('sna', 'L'), ('sna', 'R'), ('zld', 'R')),\n",
       "  0.045390624999999775),\n",
       " ((('kr', 'R'), ('sna', 'L'), ('sna', 'R')), 0.09195312499999979),\n",
       " ((('kr', 'L'), ('sna', 'L'), ('sna', 'R')), 0.08949218749999956),\n",
       " ((('kr', 'R'), ('sna', 'L'), ('sna', 'R'), ('zld', 'L')),\n",
       "  0.03624999999999997),\n",
       " ((('sna', 'L'), ('sna', 'R'), ('zld', 'R')), 0.07679687499999967),\n",
       " ((('kr', 'R'), ('sna', 'R'), ('zld', 'R')), 0.06984374999999979),\n",
       " ((('sna', 'L'), ('sna', 'R'), ('zld', 'L')), 0.0693749999999999),\n",
       " ((('sna', 'R'), ('zld', 'L')), 0.16550781249999943),\n",
       " ((('sna', 'R'), ('zld', 'R')), 0.1654296874999993),\n",
       " ((('kr', 'L'), ('sna', 'R')), 0.13650390624999947),\n",
       " ((('kr', 'R'), ('sna', 'R')), 0.13517578124999946),\n",
       " ((('kr', 'R'), ('sna', 'R'), ('zld', 'L')), 0.04812499999999996),\n",
       " ((('kr', 'R'), ('sna', 'L'), ('zld', 'R')), 0.046015624999999775),\n",
       " ((('da', 'L'), ('kr', 'R'), ('sna', 'L'), ('sna', 'R'), ('zld', 'R')),\n",
       "  0.004160156249999997),\n",
       " ((('kr', 'R'), ('sna', 'L'), ('zld', 'L')), 0.03710937499999995),\n",
       " ((('kr', 'R'), ('sna', 'L')), 0.09374999999999979),\n",
       " ((('kr', 'L'), ('sna', 'L')), 0.09152343749999957),\n",
       " ((('da', 'L'), ('kr', 'R'), ('sna', 'L'), ('sna', 'R')),\n",
       "  0.007910156249999991)]"
      ]
     },
     "execution_count": 13,
     "metadata": {},
     "output_type": "execute_result"
    }
   ],
   "source": [
    "list(prevalence.items())[:20]"
   ]
  },
  {
   "cell_type": "code",
   "execution_count": 14,
   "metadata": {},
   "outputs": [
    {
     "data": {
      "text/plain": [
       "array([0.25, 0.25, 0.75, 0.75, 0.75, 0.75, 0.75, 0.75, 0.75, 0.75, 0.75,\n",
       "       0.75, 0.75, 0.75, 0.75, 0.75, 0.75, 0.75, 0.75, 0.75, 0.75, 0.75,\n",
       "       0.75, 0.75, 0.75, 0.75, 0.75, 0.75, 0.75, 0.75, 0.75, 0.75, 0.75,\n",
       "       0.75, 0.75, 0.75, 0.75, 0.75, 0.75, 0.75, 0.75, 0.75, 0.75, 0.75,\n",
       "       0.75, 0.75, 0.75, 0.75, 0.75, 0.75, 0.75, 0.75, 0.75, 0.75, 0.75,\n",
       "       0.75, 0.75, 0.75, 0.75, 0.75, 0.75, 0.75, 0.75, 0.75, 0.75, 0.75])"
      ]
     },
     "execution_count": 14,
     "metadata": {},
     "output_type": "execute_result"
    }
   ],
   "source": [
    "utils.evaluate_model(y_true=interact_new, y_pred=list(prevalence.keys()), name=\"Enhancer_new\", metric=\"strict\")"
   ]
  },
  {
   "cell_type": "markdown",
   "metadata": {},
   "source": [
    "## Simulation 2: OR rule"
   ]
  },
  {
   "cell_type": "code",
   "execution_count": 15,
   "metadata": {},
   "outputs": [],
   "source": [
    "X, y, interact_new = utils.load_data(i=0, name='Enhancer_new', rule='or')"
   ]
  },
  {
   "cell_type": "code",
   "execution_count": 16,
   "metadata": {},
   "outputs": [],
   "source": [
    "rf = rfc()"
   ]
  },
  {
   "cell_type": "code",
   "execution_count": 17,
   "metadata": {},
   "outputs": [
    {
     "data": {
      "text/plain": [
       "wrf(bootstrap=True, ccp_alpha=0.0, class_weight=None, criterion='gini',\n",
       "    max_depth=None, max_features='auto', max_leaf_nodes=None, max_samples=None,\n",
       "    min_impurity_decrease=0.0, min_impurity_split=None, min_samples_leaf=1,\n",
       "    min_samples_split=2, min_weight_fraction_leaf=0.0, n_estimators=100,\n",
       "    n_jobs=None, oob_score=False, random_state=None, verbose=0,\n",
       "    warm_start=False)"
      ]
     },
     "execution_count": 17,
     "metadata": {},
     "output_type": "execute_result"
    }
   ],
   "source": [
    "rf.fit(X, y, keep_record=False)"
   ]
  },
  {
   "cell_type": "code",
   "execution_count": 18,
   "metadata": {},
   "outputs": [
    {
     "data": {
      "text/plain": [
       "[[(4, 'R'), (18, 'R'), (0, 'L'), (29, 'L')],\n",
       " [(4, 'L'), (18, 'L'), (0, 'R'), (29, 'R')]]"
      ]
     },
     "execution_count": 18,
     "metadata": {},
     "output_type": "execute_result"
    }
   ],
   "source": [
    "interact_new"
   ]
  },
  {
   "cell_type": "code",
   "execution_count": 19,
   "metadata": {},
   "outputs": [
    {
     "data": {
      "text/plain": [
       "<BarContainer object of 35 artists>"
      ]
     },
     "execution_count": 19,
     "metadata": {},
     "output_type": "execute_result"
    },
    {
     "data": {
      "image/png": "[encoded data removed]",
      "text/plain": [
       "<Figure size 432x288 with 1 Axes>"
      ]
     },
     "metadata": {},
     "output_type": "display_data"
    }
   ],
   "source": [
    "color = ['b' for x in range(35)]\n",
    "for x in [4, 18, 0, 29]:\n",
    "    color[x] = 'r'\n",
    "plt.bar(\n",
    "    np.arange(35),\n",
    "    rf.feature_importances_,\n",
    "    color = color,\n",
    ")"
   ]
  },
  {
   "cell_type": "code",
   "execution_count": 20,
   "metadata": {},
   "outputs": [
    {
     "data": {
      "image/png": "[encoded data removed]",
      "text/plain": [
       "<Figure size 432x288 with 1 Axes>"
      ]
     },
     "metadata": {},
     "output_type": "display_data"
    }
   ],
   "source": [
    "#visualize the impurity decrease of the rf model\n",
    "visualize_impurity_decrease(rf, xscale='linear', bins=50)"
   ]
  },
  {
   "cell_type": "code",
   "execution_count": 21,
   "metadata": {},
   "outputs": [],
   "source": [
    "#preprocess compute the prevalence\n",
    "prevalence = get_prevalent_interactions(rf, impurity_decrease_threshold=1e-3, min_support=500, signed=True, mask=mask)"
   ]
  },
  {
   "cell_type": "code",
   "execution_count": 22,
   "metadata": {},
   "outputs": [
    {
     "data": {
      "image/png": "[encoded data removed]",
      "text/plain": [
       "<Figure size 432x288 with 1 Axes>"
      ]
     },
     "metadata": {},
     "output_type": "display_data"
    }
   ],
   "source": [
    "#visualize the interaction plot\n",
    "visualize_prevalent_interactions(prevalence=prevalence)"
   ]
  },
  {
   "cell_type": "code",
   "execution_count": 23,
   "metadata": {},
   "outputs": [
    {
     "data": {
      "text/plain": [
       "[[('D', 'R'), ('kr', 'R'), ('zld', 'L'), ('sna', 'L')],\n",
       " [('D', 'L'), ('kr', 'L'), ('zld', 'R'), ('sna', 'R')]]"
      ]
     },
     "execution_count": 23,
     "metadata": {},
     "output_type": "execute_result"
    }
   ],
   "source": [
    "[[(mask[x[0]], x[1]) for x in interact] for interact in interact_new]"
   ]
  },
  {
   "cell_type": "code",
   "execution_count": 24,
   "metadata": {},
   "outputs": [
    {
     "data": {
      "text/plain": [
       "[((('D', 'R'), ('kr', 'R'), ('zld', 'L')), 0.11750000000000231),\n",
       " ((('D', 'R'), ('kr', 'R'), ('sna', 'L'), ('zld', 'L')), 0.05228515625000092),\n",
       " ((('D', 'R'), ('kr', 'R'), ('sna', 'R'), ('zld', 'L')), 0.05000219345092766),\n",
       " ((('kr', 'R'), ('zld', 'L')), 0.21609375000000583),\n",
       " ((('kr', 'R'),), 0.4571875000000172),\n",
       " ((('D', 'L'), ('kr', 'L'), ('sna', 'R'), ('zld', 'R')), 0.02890624999999989),\n",
       " ((('kr', 'R'), ('sna', 'R'), ('zld', 'L')), 0.06062719345092764),\n",
       " ((('kr', 'L'), ('sna', 'R')), 0.1539843749999996),\n",
       " ((('kr', 'L'), ('sna', 'L')), 0.1533301925659179),\n",
       " ((('kr', 'L'), ('sna', 'R'), ('zld', 'R')), 0.05812499999999971),\n",
       " ((('kr', 'R'), ('sna', 'L'), ('zld', 'L')), 0.05806640625000112),\n",
       " ((('D', 'R'), ('kr', 'R')), 0.14453125000000402),\n",
       " ((('D', 'R'), ('kr', 'R'), ('sna', 'L')), 0.05306640625000091),\n",
       " ((('D', 'R'), ('sna', 'L'), ('zld', 'L')), 0.05291015625000095),\n",
       " ((('D', 'R'), ('sna', 'R'), ('zld', 'L')), 0.05093969345092766),\n",
       " ((('D', 'R'), ('kr', 'R'), ('sna', 'R')), 0.05062719345092766),\n",
       " ((('sna', 'R'), ('zld', 'L')), 0.12968969345092735),\n",
       " ((('D', 'L'), ('kr', 'L'), ('sna', 'R')), 0.044804687499999794),\n",
       " ((('D', 'R'), ('zld', 'L')), 0.12406250000000256),\n",
       " ((('D', 'R'), ('kr', 'R'), ('sna', 'L'), ('twi', 'R'), ('zld', 'L')),\n",
       "  0.004245777130126947)]"
      ]
     },
     "execution_count": 24,
     "metadata": {},
     "output_type": "execute_result"
    }
   ],
   "source": [
    "#visualize find out the most prevalent interactions\n",
    "list(prevalence.items())[:20]"
   ]
  },
  {
   "cell_type": "code",
   "execution_count": 26,
   "metadata": {},
   "outputs": [
    {
     "data": {
      "text/plain": [
       "array([0.75, 1.  , 1.  , 1.  , 1.  , 1.  , 1.  , 1.  , 1.  , 1.  , 1.  ,\n",
       "       1.  , 1.  , 1.  , 1.  , 1.  , 1.  , 1.  , 1.  , 1.  , 1.  , 1.  ,\n",
       "       1.  , 1.  , 1.  , 1.  , 1.  , 1.  , 1.  , 1.  , 1.  , 1.  , 1.  ,\n",
       "       1.  , 1.  , 1.  , 1.  , 1.  , 1.  , 1.  , 1.  , 1.  , 1.  , 1.  ,\n",
       "       1.  , 1.  , 1.  , 1.  , 1.  , 1.  , 1.  , 1.  , 1.  , 1.  , 1.  ,\n",
       "       1.  , 1.  , 1.  , 1.  , 1.  , 1.  , 1.  , 1.  , 1.  , 1.  , 1.  ,\n",
       "       1.  , 1.  , 1.  , 1.  , 1.  , 1.  , 1.  , 1.  , 1.  , 1.  , 1.  ,\n",
       "       1.  , 1.  , 1.  , 1.  , 1.  , 1.  , 1.  , 1.  , 1.  , 1.  , 1.  ,\n",
       "       1.  , 1.  , 1.  , 1.  , 1.  , 1.  , 1.  , 1.  , 1.  , 1.  , 1.  ,\n",
       "       1.  , 1.  , 1.  , 1.  , 1.  , 1.  , 1.  , 1.  , 1.  , 1.  , 1.  ,\n",
       "       1.  , 1.  , 1.  , 1.  , 1.  , 1.  , 1.  , 1.  , 1.  , 1.  , 1.  ,\n",
       "       1.  , 1.  , 1.  , 1.  , 1.  , 1.  , 1.  , 1.  , 1.  , 1.  , 1.  ,\n",
       "       1.  , 1.  , 1.  , 1.  , 1.  , 1.  , 1.  , 1.  , 1.  , 1.  , 1.  ])"
      ]
     },
     "execution_count": 26,
     "metadata": {},
     "output_type": "execute_result"
    }
   ],
   "source": [
    "utils.evaluate_model(y_true=interact_new, y_pred=list(prevalence.keys()), name=\"Enhancer_new\", metric=\"strict\")"
   ]
  },
  {
   "cell_type": "markdown",
   "metadata": {},
   "source": [
    "## Simulation 3: Add rule"
   ]
  },
  {
   "cell_type": "code",
   "execution_count": 27,
   "metadata": {},
   "outputs": [],
   "source": [
    "X, y, interact_new = utils.load_data(i=0, name='Enhancer_new', rule='add')"
   ]
  },
  {
   "cell_type": "code",
   "execution_count": 28,
   "metadata": {},
   "outputs": [],
   "source": [
    "rf = rfc()"
   ]
  },
  {
   "cell_type": "code",
   "execution_count": 29,
   "metadata": {},
   "outputs": [
    {
     "data": {
      "text/plain": [
       "wrf(bootstrap=True, ccp_alpha=0.0, class_weight=None, criterion='gini',\n",
       "    max_depth=None, max_features='auto', max_leaf_nodes=None, max_samples=None,\n",
       "    min_impurity_decrease=0.0, min_impurity_split=None, min_samples_leaf=1,\n",
       "    min_samples_split=2, min_weight_fraction_leaf=0.0, n_estimators=100,\n",
       "    n_jobs=None, oob_score=False, random_state=None, verbose=0,\n",
       "    warm_start=False)"
      ]
     },
     "execution_count": 29,
     "metadata": {},
     "output_type": "execute_result"
    }
   ],
   "source": [
    "rf.fit(X, y, keep_record=False)"
   ]
  },
  {
   "cell_type": "code",
   "execution_count": 30,
   "metadata": {},
   "outputs": [
    {
     "data": {
      "text/plain": [
       "[[('D', 'R'), ('gt', 'R'), ('kr', 'R')],\n",
       " [('zld', 'R'), ('sna', 'R'), ('twi', 'R')]]"
      ]
     },
     "execution_count": 30,
     "metadata": {},
     "output_type": "execute_result"
    }
   ],
   "source": [
    "[[(mask[x[0]], x[1]) for x in interact] for interact in interact_new]"
   ]
  },
  {
   "cell_type": "code",
   "execution_count": 31,
   "metadata": {},
   "outputs": [
    {
     "data": {
      "text/plain": [
       "<BarContainer object of 35 artists>"
      ]
     },
     "execution_count": 31,
     "metadata": {},
     "output_type": "execute_result"
    },
    {
     "data": {
      "image/png": "[encoded data removed]",
      "text/plain": [
       "<Figure size 432x288 with 1 Axes>"
      ]
     },
     "metadata": {},
     "output_type": "display_data"
    }
   ],
   "source": [
    "color = ['b' for x in range(80)]\n",
    "for x in [4, 8, 18] + [0, 29, 32]:\n",
    "    color[x] = 'r'\n",
    "plt.bar(np.arange(35), rf.feature_importances_, color=color)"
   ]
  },
  {
   "cell_type": "code",
   "execution_count": 32,
   "metadata": {},
   "outputs": [
    {
     "data": {
      "image/png": "[encoded data removed]",
      "text/plain": [
       "<Figure size 432x288 with 1 Axes>"
      ]
     },
     "metadata": {},
     "output_type": "display_data"
    }
   ],
   "source": [
    "#visualize the impurity decrease of the rf model\n",
    "visualize_impurity_decrease(rf, xscale='linear', bins=50)"
   ]
  },
  {
   "cell_type": "code",
   "execution_count": 33,
   "metadata": {},
   "outputs": [],
   "source": [
    "#preprocess compute the prevalence\n",
    "prevalence = get_prevalent_interactions(rf, impurity_decrease_threshold=0.001, min_support=2000, signed=True, mask=mask)"
   ]
  },
  {
   "cell_type": "code",
   "execution_count": 34,
   "metadata": {},
   "outputs": [
    {
     "data": {
      "image/png": "[encoded data removed]",
      "text/plain": [
       "<Figure size 432x288 with 1 Axes>"
      ]
     },
     "metadata": {},
     "output_type": "display_data"
    }
   ],
   "source": [
    "#visualize the interaction plot\n",
    "visualize_prevalent_interactions(prevalence=prevalence)"
   ]
  },
  {
   "cell_type": "code",
   "execution_count": 35,
   "metadata": {},
   "outputs": [
    {
     "data": {
      "text/plain": [
       "[((('gt', 'R'), ('sna', 'L')), 0.2631445312500032),\n",
       " ((('gt', 'R'),), 0.4975000000000055),\n",
       " ((('gt', 'L'),), 0.4974999999999976),\n",
       " ((('gt', 'R'), ('sna', 'R')), 0.24633178710937298),\n",
       " ((('sna', 'L'),), 0.4604296875000062),\n",
       " ((('sna', 'R'),), 0.44977416992187125),\n",
       " ((('gt', 'R'), ('kr', 'R'), ('sna', 'L')), 0.08963050842285189),\n",
       " ((('gt', 'R'), ('kr', 'R')), 0.11322425842285179),\n",
       " ((('kr', 'R'), ('sna', 'L')), 0.09939613342285182),\n",
       " ((('D', 'R'), ('gt', 'R'), ('sna', 'L')), 0.023982553482055552),\n",
       " ((('D', 'R'), ('gt', 'R')), 0.026443490982055562),\n",
       " ((('D', 'R'), ('sna', 'L')), 0.024763803482055563),\n",
       " ((('zld', 'R'),), 0.10840881347656187)]"
      ]
     },
     "execution_count": 35,
     "metadata": {},
     "output_type": "execute_result"
    }
   ],
   "source": [
    "#visualize find out the most prevalent interactions\n",
    "list(prevalence.items())[:20]"
   ]
  },
  {
   "cell_type": "code",
   "execution_count": 36,
   "metadata": {},
   "outputs": [
    {
     "data": {
      "text/plain": [
       "array([0.        , 0.16666667, 0.16666667, 0.16666667, 0.33333333,\n",
       "       0.33333333, 0.33333333, 0.5       , 0.5       , 0.5       ,\n",
       "       0.5       , 0.5       , 0.5       ])"
      ]
     },
     "execution_count": 36,
     "metadata": {},
     "output_type": "execute_result"
    }
   ],
   "source": [
    "utils.evaluate_model(y_true=interact_new, y_pred=list(prevalence.keys()), name=\"Enhancer_new\", metric=\"strict\")"
   ]
  }
 ],
 "metadata": {
  "kernelspec": {
   "display_name": "Python 3",
   "language": "python",
   "name": "python3"
  },
  "language_info": {
   "codemirror_mode": {
    "name": "ipython",
    "version": 3
   },
   "file_extension": ".py",
   "mimetype": "text/x-python",
   "name": "python",
   "nbconvert_exporter": "python",
   "pygments_lexer": "ipython3",
   "version": "3.6.5"
  }
 },
 "nbformat": 4,
 "nbformat_minor": 2
}
