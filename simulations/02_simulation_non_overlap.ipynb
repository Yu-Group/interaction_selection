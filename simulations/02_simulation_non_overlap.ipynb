{
 "cells": [
  {
   "cell_type": "code",
   "execution_count": 1,
   "metadata": {},
   "outputs": [],
   "source": [
    "import numpy as np\n",
    "import matplotlib.pyplot as plt\n",
    "import irf\n",
    "from irf.ensemble import wrf_reg as rfr\n",
    "from irf.utils import get_prevalent_interactions, visualize_impurity_decrease, visualize_prevalent_interactions, get_filtered_feature_paths"
   ]
  },
  {
   "cell_type": "markdown",
   "metadata": {},
   "source": [
    "# Simulation for interaction selection"
   ]
  },
  {
   "cell_type": "markdown",
   "metadata": {},
   "source": [
    "### simulation 1: Y = 1(X0 < 0.3, X1 < 0.5, X2 < 0.7)"
   ]
  },
  {
   "cell_type": "code",
   "execution_count": 2,
   "metadata": {},
   "outputs": [],
   "source": [
    "#load_data generate simulation 1\n",
    "n = 1000\n",
    "p = 10\n",
    "X = np.random.choice([0, 1], (n, p))\n",
    "y_noiseless = (X[:, 0] < 0.3) * (X[:, 1] < 0.5) * (X[:, 2] < 0.7) \n",
    "noise = np.random.normal(0, 1, y_noiseless.shape)\n",
    "SNR = 1\n",
    "y = y_noiseless + (np.var(y_noiseless) / np.var(noise) * SNR**-1)**.5  * noise"
   ]
  },
  {
   "cell_type": "code",
   "execution_count": 3,
   "metadata": {},
   "outputs": [
    {
     "data": {
      "text/plain": [
       "wrf_reg(bootstrap=True, ccp_alpha=0.0, criterion='mse', max_depth=None,\n",
       "        max_features=5, max_leaf_nodes=None, max_samples=None,\n",
       "        min_impurity_decrease=0.0, min_impurity_split=None, min_samples_leaf=1,\n",
       "        min_samples_split=2, min_weight_fraction_leaf=0.0, n_estimators=300,\n",
       "        n_jobs=None, oob_score=False, random_state=None, verbose=0,\n",
       "        warm_start=False)"
      ]
     },
     "execution_count": 3,
     "metadata": {},
     "output_type": "execute_result"
    }
   ],
   "source": [
    "#train_model train a random forest model\n",
    "rf = rfr(bootstrap=True, n_estimators=300, max_features=5)\n",
    "rf.fit(X,  y, keep_record=False)"
   ]
  },
  {
   "cell_type": "markdown",
   "metadata": {},
   "source": [
    "- Observation: when max_features is set to be lower, the following results got worse."
   ]
  },
  {
   "cell_type": "code",
   "execution_count": 5,
   "metadata": {},
   "outputs": [
    {
     "data": {
      "image/png": "[encoded data removed]",
      "text/plain": [
       "<Figure size 432x288 with 1 Axes>"
      ]
     },
     "metadata": {},
     "output_type": "display_data"
    }
   ],
   "source": [
    "#visualize the impurity decrease of the rf model\n",
    "visualize_impurity_decrease(rf, xscale='linear', bins=20)"
   ]
  },
  {
   "cell_type": "code",
   "execution_count": 61,
   "metadata": {},
   "outputs": [],
   "source": [
    "#preprocess compute the prevalence\n",
    "prevalence = get_prevalent_interactions(rf, impurity_decrease_threshold=0.005, min_support=10, signed=True)"
   ]
  },
  {
   "cell_type": "code",
   "execution_count": 62,
   "metadata": {},
   "outputs": [
    {
     "data": {
      "image/png": "[encoded data removed]",
      "text/plain": [
       "<Figure size 432x288 with 1 Axes>"
      ]
     },
     "metadata": {},
     "output_type": "display_data"
    }
   ],
   "source": [
    "#visualize the interaction plot\n",
    "visualize_prevalent_interactions(prevalence=prevalence)"
   ]
  },
  {
   "cell_type": "code",
   "execution_count": 148,
   "metadata": {},
   "outputs": [
    {
     "data": {
      "text/plain": [
       "[(((0, '-'), (1, '-'), (2, '-'), (3, '-'), (4, '+')), 0.031250000000001),\n",
       " (((0, '-'), (1, '-'), (2, '-')), 0.1249999999999729),\n",
       " (((3, '-'), (4, '+')), 0.24999999999986078),\n",
       " (((0, '-'), (1, '-'), (2, '-'), (4, '+')), 0.05135416666666831),\n",
       " (((0, '-'), (1, '-'), (2, '-'), (4, '-')), 0.05135416666666782),\n",
       " (((4, '+'),), 0.41083333333305094),\n",
       " (((4, '-'),), 0.4108333333330502),\n",
       " (((0, '-'), (3, '-'), (4, '+')), 0.10156249999998322),\n",
       " (((0, '+'), (3, '-'), (4, '+')), 0.10156249999997902),\n",
       " (((0, '-'), (2, '-')), 0.18874999999991876),\n",
       " (((0, '-'), (1, '-'), (3, '-'), (4, '+')), 0.04614583333333481),\n",
       " (((0, '-'), (2, '-'), (3, '-'), (4, '+')), 0.045416666666667986),\n",
       " (((0, '-'), (1, '-'), (2, '-'), (3, '-')), 0.042395833333334694),\n",
       " (((0, '-'), (1, '-'), (2, '-'), (3, '+')), 0.0423958333333343),\n",
       " (((0, '-'), (2, '-'), (4, '-')), 0.08208333333332542),\n",
       " (((0, '-'), (1, '-'), (2, '-'), (3, '+'), (4, '+')), 0.020104166666666687),\n",
       " (((3, '+'), (4, '+')), 0.16083333333327723),\n",
       " (((0, '-'), (1, '-')), 0.16072916666660894),\n",
       " (((2, '-'), (4, '-')), 0.154062499999947),\n",
       " (((2, '+'), (4, '-')), 0.15406249999994348)]"
      ]
     },
     "execution_count": 148,
     "metadata": {},
     "output_type": "execute_result"
    }
   ],
   "source": [
    "#visualize find out the most prevalent interactions\n",
    "sorted(prevalence.items(), key=lambda x:-x[1] * 2 **len(x[0]))[:20]"
   ]
  },
  {
   "cell_type": "markdown",
   "metadata": {},
   "source": [
    "- Observation: the first is the right interaction."
   ]
  },
  {
   "cell_type": "markdown",
   "metadata": {},
   "source": [
    "### simulation 2: Y = 1(X0 < 0.3, X1 < 0.5, X2 < 0.7) + 1(X3 < 0.2, X4 > 0.3)"
   ]
  },
  {
   "cell_type": "code",
   "execution_count": 4,
   "metadata": {},
   "outputs": [],
   "source": [
    "#load_data generate simulation 1\n",
    "n = 1000\n",
    "p = 10\n",
    "X = np.random.choice([0, 1], (n, p))\n",
    "y_noiseless = 10 * (X[:, 0] < 0.3) * (X[:, 1] < 0.5) * (X[:, 2] < 0.7) + 10 * (X[:, 3] < 0.2) * (X[:, 4] > 0.3) \n",
    "noise = np.random.normal(0, 1, y_noiseless.shape)\n",
    "SNR = 10\n",
    "y = y_noiseless + (np.var(y_noiseless) / np.var(noise) * SNR**-1)**.5  * noise"
   ]
  },
  {
   "cell_type": "code",
   "execution_count": 10,
   "metadata": {},
   "outputs": [
    {
     "data": {
      "text/plain": [
       "wrf_reg(bootstrap=True, ccp_alpha=0.0, criterion='mse', max_depth=None,\n",
       "        max_features=8, max_leaf_nodes=None, max_samples=None,\n",
       "        min_impurity_decrease=0.0, min_impurity_split=None, min_samples_leaf=1,\n",
       "        min_samples_split=2, min_weight_fraction_leaf=0.0, n_estimators=30,\n",
       "        n_jobs=None, oob_score=False, random_state=None, verbose=0,\n",
       "        warm_start=False)"
      ]
     },
     "execution_count": 10,
     "metadata": {},
     "output_type": "execute_result"
    }
   ],
   "source": [
    "#train_model train a random forest model\n",
    "rf = rfr(bootstrap=True, n_estimators=30, max_features=8)\n",
    "rf.fit(X,  y, K=1, keep_record=False)"
   ]
  },
  {
   "cell_type": "markdown",
   "metadata": {},
   "source": [
    "- Observation: when max_features is set to be lower, the following results got worse."
   ]
  },
  {
   "cell_type": "code",
   "execution_count": 11,
   "metadata": {},
   "outputs": [
    {
     "data": {
      "image/png": "[encoded data removed]",
      "text/plain": [
       "<Figure size 432x288 with 1 Axes>"
      ]
     },
     "metadata": {},
     "output_type": "display_data"
    }
   ],
   "source": [
    "#visualize the impurity decrease of the rf model\n",
    "visualize_impurity_decrease(rf, xscale='linear', bins=100)"
   ]
  },
  {
   "cell_type": "code",
   "execution_count": 12,
   "metadata": {},
   "outputs": [],
   "source": [
    "#preprocess compute the prevalence\n",
    "prevalence = get_prevalent_interactions(rf, impurity_decrease_threshold=0.01, min_support=10, signed=True)"
   ]
  },
  {
   "cell_type": "code",
   "execution_count": 13,
   "metadata": {},
   "outputs": [
    {
     "data": {
      "image/png": "[encoded data removed]",
      "text/plain": [
       "<Figure size 432x288 with 1 Axes>"
      ]
     },
     "metadata": {},
     "output_type": "display_data"
    }
   ],
   "source": [
    "#visualize the interaction plot\n",
    "visualize_prevalent_interactions(prevalence=prevalence, ylim=(-6, 0))"
   ]
  },
  {
   "cell_type": "code",
   "execution_count": 14,
   "metadata": {},
   "outputs": [
    {
     "data": {
      "text/plain": [
       "[(((3, '-'), (4, '+')), 0.2499999999999927),\n",
       " (((0, '-'), (1, '-'), (2, '-')), 0.12382812499999966),\n",
       " (((0, '-'), (1, '-'), (2, '-'), (3, '-'), (4, '+')), 0.030859375000000015),\n",
       " (((3, '+'),), 0.45250651041667284),\n",
       " (((3, '-'),), 0.45250651041667106),\n",
       " (((0, '-'), (1, '-'), (2, '-'), (3, '+')), 0.0561523437500002),\n",
       " (((0, '-'), (1, '-'), (2, '-'), (3, '-')), 0.056022135416667125),\n",
       " (((2, '-'), (3, '-'), (4, '+')), 0.1083007812500001),\n",
       " (((2, '+'), (3, '-'), (4, '+')), 0.10830078124999944),\n",
       " (((0, '-'), (2, '-'), (3, '-'), (4, '+')), 0.05117187500000031),\n",
       " (((3, '-'), (4, '-')), 0.20250651041666276),\n",
       " (((0, '-'), (1, '-'), (2, '-'), (3, '-'), (4, '-')), 0.02516276041666666),\n",
       " (((0, '+'), (3, '+')), 0.19029947916666215),\n",
       " (((0, '-'), (1, '-'), (3, '+')), 0.09492187500000032),\n",
       " (((0, '-'), (1, '-')), 0.18772786458333),\n",
       " (((0, '-'), (3, '+')), 0.18583984374999665),\n",
       " (((0, '-'), (1, '-'), (2, '-'), (4, '-')), 0.04628906250000028),\n",
       " (((0, '-'), (1, '-'), (2, '-'), (4, '+')), 0.04563802083333348),\n",
       " (((0, '-'), (3, '-'), (4, '+')), 0.09000651041666682),\n",
       " (((0, '+'), (3, '-'), (4, '+')), 0.09000651041666667)]"
      ]
     },
     "execution_count": 14,
     "metadata": {},
     "output_type": "execute_result"
    }
   ],
   "source": [
    "#visualize find out the most prevalent interactions\n",
    "sorted(prevalence.items(), key=lambda x:-x[1] * 2 **len(x[0]))[:20]"
   ]
  },
  {
   "cell_type": "markdown",
   "metadata": {},
   "source": [
    "- Observation: the first is the right interaction."
   ]
  }
 ],
 "metadata": {
  "kernelspec": {
   "display_name": "Environment (conda_pytorch_p36)",
   "language": "python",
   "name": "conda_pytorch_p36"
  },
  "language_info": {
   "codemirror_mode": {
    "name": "ipython",
    "version": 3
   },
   "file_extension": ".py",
   "mimetype": "text/x-python",
   "name": "python",
   "nbconvert_exporter": "python",
   "pygments_lexer": "ipython3",
   "version": "3.6.5"
  }
 },
 "nbformat": 4,
 "nbformat_minor": 2
}
