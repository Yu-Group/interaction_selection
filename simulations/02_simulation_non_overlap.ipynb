{
 "cells": [
  {
   "cell_type": "code",
   "execution_count": 1,
   "metadata": {},
   "outputs": [],
   "source": [
    "import numpy as np\n",
    "import matplotlib.pyplot as plt\n",
    "import irf\n",
    "from irf.ensemble import wrf_reg as rfr\n",
    "from irf.utils import get_prevalent_interactions, visualize_impurity_decrease, visualize_prevalent_interactions, get_filtered_feature_paths"
   ]
  },
  {
   "cell_type": "markdown",
   "metadata": {},
   "source": [
    "# Simulation for interaction selection"
   ]
  },
  {
   "cell_type": "markdown",
   "metadata": {},
   "source": [
    "### simulation 1: Y = 1(X0 < 0.3, X1 < 0.5, X2 < 0.7)"
   ]
  },
  {
   "cell_type": "code",
   "execution_count": 2,
   "metadata": {},
   "outputs": [],
   "source": [
    "#load_data generate simulation 1\n",
    "n = 1000\n",
    "p = 10\n",
    "X = np.random.choice([0, 1], (n, p))\n",
    "y_noiseless = (X[:, 0] < 0.3) * (X[:, 1] < 0.5) * (X[:, 2] < 0.7) \n",
    "noise = np.random.normal(0, 1, y_noiseless.shape)\n",
    "SNR = 1\n",
    "y = y_noiseless + (np.var(y_noiseless) / np.var(noise) * SNR**-1)**.5  * noise"
   ]
  },
  {
   "cell_type": "code",
   "execution_count": 3,
   "metadata": {},
   "outputs": [
    {
     "data": {
      "text/plain": [
       "wrf_reg(bootstrap=True, ccp_alpha=0.0, criterion='mse', max_depth=None,\n",
       "        max_features=5, max_leaf_nodes=None, max_samples=None,\n",
       "        min_impurity_decrease=0.0, min_impurity_split=None, min_samples_leaf=1,\n",
       "        min_samples_split=2, min_weight_fraction_leaf=0.0, n_estimators=300,\n",
       "        n_jobs=None, oob_score=False, random_state=None, verbose=0,\n",
       "        warm_start=False)"
      ]
     },
     "execution_count": 3,
     "metadata": {},
     "output_type": "execute_result"
    }
   ],
   "source": [
    "#train_model train a random forest model\n",
    "rf = rfr(bootstrap=True, n_estimators=300, max_features=5)\n",
    "rf.fit(X,  y, keep_record=False)"
   ]
  },
  {
   "cell_type": "markdown",
   "metadata": {},
   "source": [
    "- Observation: when max_features is set to be lower, the following results got worse."
   ]
  },
  {
   "cell_type": "code",
   "execution_count": 4,
   "metadata": {},
   "outputs": [
    {
     "data": {
      "image/png": "[encoded data removed]",
      "text/plain": [
       "<Figure size 432x288 with 1 Axes>"
      ]
     },
     "metadata": {},
     "output_type": "display_data"
    }
   ],
   "source": [
    "#visualize the impurity decrease of the rf model\n",
    "visualize_impurity_decrease(rf, xscale='linear', bins=20)"
   ]
  },
  {
   "cell_type": "code",
   "execution_count": 6,
   "metadata": {},
   "outputs": [],
   "source": [
    "#preprocess compute the prevalence\n",
    "prevalence = get_prevalent_interactions(rf, impurity_decrease_threshold=0.005, min_support=rf.n_paths//16, signed=True)"
   ]
  },
  {
   "cell_type": "code",
   "execution_count": 7,
   "metadata": {},
   "outputs": [
    {
     "data": {
      "image/png": "[encoded data removed]",
      "text/plain": [
       "<Figure size 432x288 with 1 Axes>"
      ]
     },
     "metadata": {},
     "output_type": "display_data"
    }
   ],
   "source": [
    "#visualize the interaction plot\n",
    "visualize_prevalent_interactions(prevalence=prevalence)"
   ]
  },
  {
   "cell_type": "code",
   "execution_count": 8,
   "metadata": {},
   "outputs": [
    {
     "data": {
      "text/plain": [
       "[(((0, 'L'), (1, 'L'), (2, 'L')), 0.12406249999996247),\n",
       " (((0, 'L'), (2, 'L')), 0.19687499999990263),\n",
       " (((0, 'R'),), 0.36739583333309306),\n",
       " (((0, 'L'),), 0.3673958333330878),\n",
       " (((0, 'L'), (1, 'L')), 0.15833333333326802),\n",
       " (((2, 'R'),), 0.28802083333316497),\n",
       " (((0, 'L'), (1, 'R'), (2, 'L')), 0.07187499999999569),\n",
       " (((1, 'L'), (2, 'L')), 0.1423958333332817),\n",
       " (((0, 'L'), (2, 'R')), 0.1261458333333043),\n",
       " (((0, 'L'), (1, 'R')), 0.11604166666664203),\n",
       " (((1, 'R'), (2, 'L')), 0.09187499999998672),\n",
       " (((0, 'R'), (2, 'L')), 0.07072916666666383)]"
      ]
     },
     "execution_count": 8,
     "metadata": {},
     "output_type": "execute_result"
    }
   ],
   "source": [
    "#visualize find out the most prevalent interactions\n",
    "sorted(prevalence.items(), key=lambda x:-x[1] * 2 **len(x[0]))[:20]"
   ]
  },
  {
   "cell_type": "markdown",
   "metadata": {},
   "source": [
    "- Observation: the first is the right interaction."
   ]
  },
  {
   "cell_type": "markdown",
   "metadata": {},
   "source": [
    "### simulation 2: Y = 1(X0 < 0.3, X1 < 0.5, X2 < 0.7) + 1(X3 < 0.2, X4 > 0.3)"
   ]
  },
  {
   "cell_type": "code",
   "execution_count": 9,
   "metadata": {},
   "outputs": [],
   "source": [
    "#load_data generate simulation 1\n",
    "n = 1000\n",
    "p = 10\n",
    "X = np.random.choice([0, 1], (n, p))\n",
    "y_noiseless = 10 * (X[:, 0] < 0.3) * (X[:, 1] < 0.5) * (X[:, 2] < 0.7) + 10 * (X[:, 3] < 0.2) * (X[:, 4] > 0.3) \n",
    "noise = np.random.normal(0, 1, y_noiseless.shape)\n",
    "SNR = 10\n",
    "y = y_noiseless + (np.var(y_noiseless) / np.var(noise) * SNR**-1)**.5  * noise"
   ]
  },
  {
   "cell_type": "code",
   "execution_count": 10,
   "metadata": {},
   "outputs": [
    {
     "data": {
      "text/plain": [
       "wrf_reg(bootstrap=True, ccp_alpha=0.0, criterion='mse', max_depth=None,\n",
       "        max_features=8, max_leaf_nodes=None, max_samples=None,\n",
       "        min_impurity_decrease=0.0, min_impurity_split=None, min_samples_leaf=1,\n",
       "        min_samples_split=2, min_weight_fraction_leaf=0.0, n_estimators=30,\n",
       "        n_jobs=None, oob_score=False, random_state=None, verbose=0,\n",
       "        warm_start=False)"
      ]
     },
     "execution_count": 10,
     "metadata": {},
     "output_type": "execute_result"
    }
   ],
   "source": [
    "#train_model train a random forest model\n",
    "rf = rfr(bootstrap=True, n_estimators=30, max_features=8)\n",
    "rf.fit(X,  y, K=1, keep_record=False)"
   ]
  },
  {
   "cell_type": "markdown",
   "metadata": {},
   "source": [
    "- Observation: when max_features is set to be lower, the following results got worse."
   ]
  },
  {
   "cell_type": "code",
   "execution_count": 11,
   "metadata": {},
   "outputs": [
    {
     "data": {
      "image/png": "[encoded data removed]",
      "text/plain": [
       "<Figure size 432x288 with 1 Axes>"
      ]
     },
     "metadata": {},
     "output_type": "display_data"
    }
   ],
   "source": [
    "#visualize the impurity decrease of the rf model\n",
    "visualize_impurity_decrease(rf, xscale='linear', bins=100)"
   ]
  },
  {
   "cell_type": "code",
   "execution_count": 12,
   "metadata": {},
   "outputs": [],
   "source": [
    "#preprocess compute the prevalence\n",
    "prevalence = get_prevalent_interactions(rf, impurity_decrease_threshold=0.01, min_support=rf.n_paths // 2 ** 6, signed=True)"
   ]
  },
  {
   "cell_type": "code",
   "execution_count": 13,
   "metadata": {},
   "outputs": [
    {
     "data": {
      "image/png": "[encoded data removed]",
      "text/plain": [
       "<Figure size 432x288 with 1 Axes>"
      ]
     },
     "metadata": {},
     "output_type": "display_data"
    }
   ],
   "source": [
    "#visualize the interaction plot\n",
    "visualize_prevalent_interactions(prevalence=prevalence, ylim=(-6, 0))"
   ]
  },
  {
   "cell_type": "code",
   "execution_count": 14,
   "metadata": {},
   "outputs": [
    {
     "data": {
      "text/plain": [
       "[(((3, 'L'), (4, 'R')), 0.24999999999999292),\n",
       " (((0, 'L'), (1, 'L'), (2, 'L')), 0.12460937499999908),\n",
       " (((0, 'L'), (1, 'L'), (2, 'L'), (3, 'L'), (4, 'R')), 0.03098958333333339),\n",
       " (((4, 'L'),), 0.438769531250008),\n",
       " (((4, 'R'),), 0.43876953125000406),\n",
       " (((0, 'L'), (1, 'L'), (2, 'L'), (4, 'L')), 0.05468750000000027),\n",
       " (((0, 'L'), (1, 'L'), (2, 'L'), (4, 'R')), 0.05429687500000046),\n",
       " (((0, 'L'), (1, 'L'), (3, 'L'), (4, 'R')), 0.05345052083333368),\n",
       " (((0, 'L'), (2, 'L'), (4, 'L')), 0.10221354166666677),\n",
       " (((1, 'L'), (3, 'L'), (4, 'R')), 0.09811197916666674),\n",
       " (((1, 'R'), (3, 'L'), (4, 'R')), 0.09811197916666643),\n",
       " (((0, 'L'), (2, 'L')), 0.19267578124999568),\n",
       " (((0, 'L'), (1, 'R'), (2, 'L'), (4, 'L')), 0.04752604166666694),\n",
       " (((3, 'R'), (4, 'R')), 0.1887695312499964),\n",
       " (((0, 'L'), (1, 'L'), (2, 'L'), (3, 'R'), (4, 'R')), 0.023307291666666712),\n",
       " (((0, 'L'), (1, 'L'), (2, 'L'), (3, 'R')), 0.04596354166666684),\n",
       " (((0, 'L'), (1, 'L'), (2, 'L'), (3, 'L')), 0.045833333333333656),\n",
       " (((0, 'L'), (4, 'L')), 0.17968749999999634),\n",
       " (((0, 'L'), (3, 'L'), (4, 'R')), 0.08974609375000006),\n",
       " (((0, 'R'), (3, 'L'), (4, 'R')), 0.08974609374999999)]"
      ]
     },
     "execution_count": 14,
     "metadata": {},
     "output_type": "execute_result"
    }
   ],
   "source": [
    "#visualize find out the most prevalent interactions\n",
    "sorted(prevalence.items(), key=lambda x:-x[1] * 2 **len(x[0]))[:20]"
   ]
  },
  {
   "cell_type": "markdown",
   "metadata": {},
   "source": [
    "- Observation: the first is the right interaction."
   ]
  }
 ],
 "metadata": {
  "kernelspec": {
   "display_name": "Python 3",
   "language": "python",
   "name": "python3"
  },
  "language_info": {
   "codemirror_mode": {
    "name": "ipython",
    "version": 3
   },
   "file_extension": ".py",
   "mimetype": "text/x-python",
   "name": "python",
   "nbconvert_exporter": "python",
   "pygments_lexer": "ipython3",
   "version": "3.6.5"
  }
 },
 "nbformat": 4,
 "nbformat_minor": 2
}
