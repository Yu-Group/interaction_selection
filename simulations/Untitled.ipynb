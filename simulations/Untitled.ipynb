{
 "cells": [
  {
   "cell_type": "code",
   "execution_count": 1,
   "metadata": {},
   "outputs": [],
   "source": [
    "import autosklearn"
   ]
  },
  {
   "cell_type": "code",
   "execution_count": 4,
   "metadata": {},
   "outputs": [],
   "source": [
    "from autosklearn.pipeline.components.classification import ClassifierChoice"
   ]
  },
  {
   "cell_type": "code",
   "execution_count": 6,
   "metadata": {},
   "outputs": [],
   "source": [
    "cls = ClassifierChoice(dataset_properties=None)"
   ]
  },
  {
   "cell_type": "code",
   "execution_count": 22,
   "metadata": {},
   "outputs": [
    {
     "data": {
      "text/plain": [
       "Configuration:\n",
       "  __choice__, Value: 'random_forest'\n",
       "  random_forest:bootstrap, Value: 'True'\n",
       "  random_forest:criterion, Value: 'gini'\n",
       "  random_forest:max_depth, Constant: 'None'\n",
       "  random_forest:max_features, Value: 0.5536953197284884\n",
       "  random_forest:max_leaf_nodes, Constant: 'None'\n",
       "  random_forest:min_impurity_decrease, Constant: 0.0\n",
       "  random_forest:min_samples_leaf, Value: 20\n",
       "  random_forest:min_samples_split, Value: 20\n",
       "  random_forest:min_weight_fraction_leaf, Constant: 0.0"
      ]
     },
     "execution_count": 22,
     "metadata": {},
     "output_type": "execute_result"
    }
   ],
   "source": [
    "cs = cls.get_hyperparameter_search_space()\n",
    "cs.sample_configuration()"
   ]
  },
  {
   "cell_type": "code",
   "execution_count": 27,
   "metadata": {},
   "outputs": [],
   "source": [
    "from autosklearn.pipeline.classification import SimpleClassificationPipeline"
   ]
  },
  {
   "cell_type": "code",
   "execution_count": 28,
   "metadata": {},
   "outputs": [],
   "source": [
    "a = SimpleClassificationPipeline()"
   ]
  },
  {
   "cell_type": "code",
   "execution_count": 30,
   "metadata": {},
   "outputs": [],
   "source": [
    "b = a.get_hyperparameter_search_space()"
   ]
  },
  {
   "cell_type": "code",
   "execution_count": 31,
   "metadata": {},
   "outputs": [
    {
     "data": {
      "text/plain": [
       "Configuration:\n",
       "  balancing:strategy, Value: 'none'\n",
       "  classifier:__choice__, Value: 'random_forest'\n",
       "  classifier:random_forest:bootstrap, Value: 'True'\n",
       "  classifier:random_forest:criterion, Value: 'gini'\n",
       "  classifier:random_forest:max_depth, Constant: 'None'\n",
       "  classifier:random_forest:max_features, Value: 0.5\n",
       "  classifier:random_forest:max_leaf_nodes, Constant: 'None'\n",
       "  classifier:random_forest:min_impurity_decrease, Constant: 0.0\n",
       "  classifier:random_forest:min_samples_leaf, Value: 1\n",
       "  classifier:random_forest:min_samples_split, Value: 2\n",
       "  classifier:random_forest:min_weight_fraction_leaf, Constant: 0.0\n",
       "  data_preprocessing:categorical_transformer:categorical_encoding:__choice__, Value: 'one_hot_encoding'\n",
       "  data_preprocessing:categorical_transformer:category_coalescence:__choice__, Value: 'minority_coalescer'\n",
       "  data_preprocessing:categorical_transformer:category_coalescence:minority_coalescer:minimum_fraction, Value: 0.01\n",
       "  data_preprocessing:numerical_transformer:imputation:strategy, Value: 'mean'\n",
       "  data_preprocessing:numerical_transformer:rescaling:__choice__, Value: 'standardize'\n",
       "  feature_preprocessor:__choice__, Value: 'no_preprocessing'"
      ]
     },
     "execution_count": 31,
     "metadata": {},
     "output_type": "execute_result"
    }
   ],
   "source": [
    "b.get_default_configuration()"
   ]
  }
 ],
 "metadata": {
  "kernelspec": {
   "display_name": "Environment (conda_python3)",
   "language": "python",
   "name": "conda_python3"
  },
  "language_info": {
   "codemirror_mode": {
    "name": "ipython",
    "version": 3
   },
   "file_extension": ".py",
   "mimetype": "text/x-python",
   "name": "python",
   "nbconvert_exporter": "python",
   "pygments_lexer": "ipython3",
   "version": "3.7.4"
  }
 },
 "nbformat": 4,
 "nbformat_minor": 2
}
