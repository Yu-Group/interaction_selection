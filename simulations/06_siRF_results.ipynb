{
 "cells": [
  {
   "cell_type": "code",
   "execution_count": 1,
   "metadata": {},
   "outputs": [],
   "source": [
    "from utils import (\n",
    "    load_data,\n",
    "    train_model,\n",
    "    evaluate_model,\n",
    "    load_siRF_result,\n",
    ")\n",
    "from tqdm import tqdm\n",
    "import matplotlib.pyplot as plt\n",
    "import numpy as np\n",
    "from matplotlib.ticker import MaxNLocator"
   ]
  },
  {
   "cell_type": "code",
   "execution_count": 8,
   "metadata": {},
   "outputs": [
    {
     "name": "stderr",
     "output_type": "stream",
     "text": [
      "100%|██████████| 50/50 [00:00<00:00, 126.03it/s]\n",
      "100%|██████████| 50/50 [00:00<00:00, 159.57it/s]\n",
      "100%|██████████| 50/50 [00:00<00:00, 302.00it/s]\n",
      "100%|██████████| 50/50 [00:00<00:00, 346.14it/s]\n",
      "100%|██████████| 50/50 [00:00<00:00, 72.22it/s]\n",
      "100%|██████████| 50/50 [00:00<00:00, 334.70it/s]\n"
     ]
    }
   ],
   "source": [
    "final_results_new = {}\n",
    "for name in [\"Enhancer_new\", \"Sim\"]:\n",
    "    for rule in [\"and\", \"or\", \"add\"]:\n",
    "        for ind in tqdm(range(50)):\n",
    "            y_pred, y_true = load_siRF_result(i=ind+1, name=name, rule=rule)\n",
    "            result = evaluate_model(y_pred, y_true, name=name)\n",
    "            final_results_new[(name, rule, ind, 'siRF')] = result"
   ]
  },
  {
   "cell_type": "code",
   "execution_count": 9,
   "metadata": {},
   "outputs": [],
   "source": [
    "import pickle\n",
    "with open(\"result_whole_with_bootstrap.pickle\", 'rb') as f:\n",
    "    final_results = pickle.load(f)"
   ]
  },
  {
   "cell_type": "code",
   "execution_count": 10,
   "metadata": {},
   "outputs": [],
   "source": [
    "for key in final_results_new:\n",
    "    final_results[key] = final_results_new[key]"
   ]
  },
  {
   "cell_type": "code",
   "execution_count": 14,
   "metadata": {},
   "outputs": [],
   "source": [
    "## save the result\n",
    "import pickle\n",
    "with open(\"result_\" + \"whole_with_bootstrap\" + \".pickle\", 'wb') as f:\n",
    "    pickle.dump(final_results, f)"
   ]
  }
 ],
 "metadata": {
  "kernelspec": {
   "display_name": "Python 3",
   "language": "python",
   "name": "python3"
  },
  "language_info": {
   "codemirror_mode": {
    "name": "ipython",
    "version": 3
   },
   "file_extension": ".py",
   "mimetype": "text/x-python",
   "name": "python",
   "nbconvert_exporter": "python",
   "pygments_lexer": "ipython3",
   "version": "3.6.5"
  }
 },
 "nbformat": 4,
 "nbformat_minor": 2
}
